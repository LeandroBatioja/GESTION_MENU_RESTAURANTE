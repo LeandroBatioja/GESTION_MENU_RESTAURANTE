{
 "cells": [
  {
   "cell_type": "raw",
   "id": "b07578c4-d7b8-4d95-bca5-c4b2225fd672",
   "metadata": {},
   "source": [
    "EJERCICIO \"MENU RESTAURANTE_CALCHIN\""
   ]
  },
  {
   "cell_type": "code",
   "execution_count": 48,
   "id": "3066b51f-37c7-4c66-b671-0843c705532b",
   "metadata": {},
   "outputs": [],
   "source": [
    "# Diccionario principal del restaurante\n",
    "recetario_calchin = {\n",
    "    'sopa de llamas': {\n",
    "        'valor_unitario': 9.80,\n",
    "        'ingredientes': ('carne de llama', 'papas', 'ají', 'cebolla')\n",
    "    },\n",
    "    'asado del infierno': {\n",
    "        'valor_unitario': 15.50,\n",
    "        'ingredientes': ('costillas', 'sal gruesa', 'salsa picante')\n",
    "    },\n",
    "    'empanadas de la abuela': {\n",
    "        'valor_unitario': 7.20,\n",
    "        'ingredientes': ('carne molida', 'cebolla', 'pimentón', 'huevo duro')\n",
    "    },\n",
    "    'ensalada bestial': {\n",
    "        'valor_unitario': 6.40,\n",
    "        'ingredientes': ('lechuga', 'zanahoria', 'huevo', 'palta')\n",
    "    },\n",
    "    'locro calchinense': {\n",
    "        'valor_unitario': 12.00,\n",
    "        'ingredientes': ('maíz blanco', 'poroto', 'chorizo', 'panceta')\n",
    "    },\n",
    "    'tarta embrujada': {\n",
    "        'valor_unitario': 10.30,\n",
    "        'ingredientes': ('choclo', 'masa', 'queso', 'cebolla')\n",
    "    },\n",
    "    'pastel de las sierras': {\n",
    "        'valor_unitario': 11.50,\n",
    "        'ingredientes': ('puré', 'carne', 'aceitunas', 'huevo duro')\n",
    "    }\n",
    "}\n"
   ]
  },
  {
   "cell_type": "code",
   "execution_count": 49,
   "id": "c549027f-3139-4be2-b586-322b50af27c6",
   "metadata": {},
   "outputs": [
    {
     "name": "stdout",
     "output_type": "stream",
     "text": [
      "\n",
      "📜 MENÚ - La sazón de la Bestia de Calchín\n",
      "--------------------------------------------------\n",
      "🍴 Sopa De Llamas\n",
      "   💵 Precio: $9.80\n",
      "   🧂 Ingredientes: carne de llama, papas, ají, cebolla\n",
      "--------------------------------------------------\n",
      "🍴 Asado Del Infierno\n",
      "   💵 Precio: $15.50\n",
      "   🧂 Ingredientes: costillas, sal gruesa, salsa picante\n",
      "--------------------------------------------------\n",
      "🍴 Empanadas De La Abuela\n",
      "   💵 Precio: $7.20\n",
      "   🧂 Ingredientes: carne molida, cebolla, pimentón, huevo duro\n",
      "--------------------------------------------------\n",
      "🍴 Ensalada Bestial\n",
      "   💵 Precio: $6.40\n",
      "   🧂 Ingredientes: lechuga, zanahoria, huevo, palta\n",
      "--------------------------------------------------\n",
      "🍴 Locro Calchinense\n",
      "   💵 Precio: $12.00\n",
      "   🧂 Ingredientes: maíz blanco, poroto, chorizo, panceta\n",
      "--------------------------------------------------\n",
      "🍴 Tarta Embrujada\n",
      "   💵 Precio: $10.30\n",
      "   🧂 Ingredientes: choclo, masa, queso, cebolla\n",
      "--------------------------------------------------\n",
      "🍴 Pastel De Las Sierras\n",
      "   💵 Precio: $11.50\n",
      "   🧂 Ingredientes: puré, carne, aceitunas, huevo duro\n",
      "--------------------------------------------------\n"
     ]
    }
   ],
   "source": [
    "def desplegar_menu(cartilla):\n",
    "    print(\"\\n📜 MENÚ - La sazón de la Bestia de Calchín\")\n",
    "    print(\"-\" * 50)\n",
    "    for comida, detalle in cartilla.items():\n",
    "        print(f\"🍴 {comida.title()}\")\n",
    "        print(f\"   💵 Precio: ${detalle['valor_unitario']:.2f}\")\n",
    "        print(f\"   🧂 Ingredientes: {', '.join(detalle['ingredientes'])}\")\n",
    "        print(\"-\" * 50)\n",
    "\n",
    "# Mostrar el menú\n",
    "desplegar_menu(recetario_calchin)"
   ]
  },
  {
   "cell_type": "raw",
   "id": "610a7bd7-e72d-427b-adb1-f2a8ffe4ec65",
   "metadata": {},
   "source": [
    "PARTE 2 - SIMULACION DE PEDIDOS DEL CLIENTE"
   ]
  },
  {
   "cell_type": "raw",
   "id": "98436aaf-3ebd-4a27-89e6-e55e698c6626",
   "metadata": {},
   "source": [
    "PRIMERO INICIALIZAMOS LAS VARIABLES PARA EL PEDIDO"
   ]
  },
  {
   "cell_type": "code",
   "execution_count": 50,
   "id": "10926396-52fd-4ac0-a27e-982e974a4f0c",
   "metadata": {},
   "outputs": [],
   "source": [
    "# Lista de platos seleccionados\n",
    "seleccion_cliente = []\n",
    "\n",
    "# Total de la cuenta\n",
    "cuenta_final = 0.0"
   ]
  },
  {
   "cell_type": "raw",
   "id": "94591d4a-2a66-49da-bee5-847f422f8429",
   "metadata": {},
   "source": [
    "AHORA REALIZAREMOS UN BUCLE PARA EL INGRESO DE LOS PLATOS QUE VALLA A PEDIR NUESTRO CLIENTE"
   ]
  },
  {
   "cell_type": "code",
   "execution_count": 51,
   "id": "246abfa0-94bc-4c29-b6ba-8699a2991e9f",
   "metadata": {},
   "outputs": [
    {
     "name": "stdin",
     "output_type": "stream",
     "text": [
      "👉 Introduzca el plato deseado (o 'fin' para terminar):  Sopa De Llamas\n"
     ]
    },
    {
     "name": "stdout",
     "output_type": "stream",
     "text": [
      "✅ ¡'Sopa De Llamas' añadido al pedido!\n"
     ]
    },
    {
     "name": "stdin",
     "output_type": "stream",
     "text": [
      "👉 Introduzca el plato deseado (o 'fin' para terminar):  Asado Del Infierno\n"
     ]
    },
    {
     "name": "stdout",
     "output_type": "stream",
     "text": [
      "✅ ¡'Asado Del Infierno' añadido al pedido!\n"
     ]
    },
    {
     "name": "stdin",
     "output_type": "stream",
     "text": [
      "👉 Introduzca el plato deseado (o 'fin' para terminar):  Tarta Embrujada\n"
     ]
    },
    {
     "name": "stdout",
     "output_type": "stream",
     "text": [
      "✅ ¡'Tarta Embrujada' añadido al pedido!\n"
     ]
    },
    {
     "name": "stdin",
     "output_type": "stream",
     "text": [
      "👉 Introduzca el plato deseado (o 'fin' para terminar):  fin\n"
     ]
    }
   ],
   "source": [
    "while True:\n",
    "    try:\n",
    "        seleccion = input(\"👉 Introduzca el plato deseado (o 'fin' para terminar): \").lower()\n",
    "\n",
    "        if seleccion == 'fin':\n",
    "            break\n",
    "\n",
    "        if seleccion in recetario_calchin:\n",
    "            seleccion_cliente.append(seleccion)\n",
    "            cuenta_final += recetario_calchin[seleccion]['valor_unitario']\n",
    "            print(f\"✅ ¡'{seleccion.title()}' añadido al pedido!\")\n",
    "        else:\n",
    "            print(\"⚠️ Lo sentimos, ese plato no está en el menú.\")\n",
    "\n",
    "    except (KeyError, IndexError, TypeError):\n",
    "        print(\"❌ Ocurrió un error inesperado al procesar el pedido.\")"
   ]
  },
  {
   "cell_type": "raw",
   "id": "1891a1b9-7fc6-4038-b830-a26df78e9d77",
   "metadata": {},
   "source": [
    "MOSTRAMOS EL MENU PERO YA FINALIZADO DE UNA VEZ EL PEDIDO"
   ]
  },
  {
   "cell_type": "code",
   "execution_count": 52,
   "id": "ec9804b9-5e53-410e-8d9e-c5c11c16f760",
   "metadata": {},
   "outputs": [
    {
     "name": "stdout",
     "output_type": "stream",
     "text": [
      "\n",
      "🧾 RESUMEN DEL PEDIDO\n",
      "----------------------------------------\n",
      "1. Sopa De Llamas - $9.80\n",
      "2. Asado Del Infierno - $15.50\n",
      "3. Tarta Embrujada - $10.30\n",
      "----------------------------------------\n",
      "💰 TOTAL A PAGAR: $35.60\n"
     ]
    }
   ],
   "source": [
    "print(\"\\n🧾 RESUMEN DEL PEDIDO\")\n",
    "print(\"-\" * 40)\n",
    "for indice, plato in enumerate(seleccion_cliente, start=1):\n",
    "    print(f\"{indice}. {plato.title()} - ${recetario_calchin[plato]['valor_unitario']:.2f}\")\n",
    "print(\"-\" * 40)\n",
    "print(f\"💰 TOTAL A PAGAR: ${cuenta_final:.2f}\")"
   ]
  },
  {
   "cell_type": "raw",
   "id": "b54eb334-68df-45eb-889f-7126606b779b",
   "metadata": {},
   "source": [
    "PARTE 3 - MANIPULAREMOS LO QUE ES EL MENU AVANZADO"
   ]
  },
  {
   "cell_type": "raw",
   "id": "d720eee0-d991-4ce4-b447-bdbaad362d7f",
   "metadata": {},
   "source": [
    "MODIFICAREMOS UN PRECIO APLICANDO UN DESCUENTO DEL 10 %"
   ]
  },
  {
   "cell_type": "code",
   "execution_count": 53,
   "id": "330c4f7d-424d-4155-b2ce-f3b782bfcc1d",
   "metadata": {},
   "outputs": [
    {
     "name": "stdout",
     "output_type": "stream",
     "text": [
      "\n",
      "📉 Se aplicó un 10% de descuento al Asado del Infierno.\n",
      "\n",
      "📜 MENÚ - La sazón de la Bestia de Calchín\n",
      "--------------------------------------------------\n",
      "🍴 Sopa De Llamas\n",
      "   💵 Precio: $9.80\n",
      "   🧂 Ingredientes: carne de llama, papas, ají, cebolla\n",
      "--------------------------------------------------\n",
      "🍴 Asado Del Infierno\n",
      "   💵 Precio: $13.95\n",
      "   🧂 Ingredientes: costillas, sal gruesa, salsa picante\n",
      "--------------------------------------------------\n",
      "🍴 Empanadas De La Abuela\n",
      "   💵 Precio: $7.20\n",
      "   🧂 Ingredientes: carne molida, cebolla, pimentón, huevo duro\n",
      "--------------------------------------------------\n",
      "🍴 Ensalada Bestial\n",
      "   💵 Precio: $6.40\n",
      "   🧂 Ingredientes: lechuga, zanahoria, huevo, palta\n",
      "--------------------------------------------------\n",
      "🍴 Locro Calchinense\n",
      "   💵 Precio: $12.00\n",
      "   🧂 Ingredientes: maíz blanco, poroto, chorizo, panceta\n",
      "--------------------------------------------------\n",
      "🍴 Tarta Embrujada\n",
      "   💵 Precio: $10.30\n",
      "   🧂 Ingredientes: choclo, masa, queso, cebolla\n",
      "--------------------------------------------------\n",
      "🍴 Pastel De Las Sierras\n",
      "   💵 Precio: $11.50\n",
      "   🧂 Ingredientes: puré, carne, aceitunas, huevo duro\n",
      "--------------------------------------------------\n"
     ]
    }
   ],
   "source": [
    "# Aplicar descuento del 10% a 'asado del infierno'\n",
    "precio_original = recetario_calchin['asado del infierno']['valor_unitario']\n",
    "nuevo_precio = round(precio_original * 0.90, 2)\n",
    "recetario_calchin['asado del infierno']['valor_unitario'] = nuevo_precio\n",
    "\n",
    "print(\"\\n📉 Se aplicó un 10% de descuento al Asado del Infierno.\")\n",
    "desplegar_menu(recetario_calchin)\n"
   ]
  },
  {
   "cell_type": "raw",
   "id": "2e3bd711-64b9-4925-91a5-e34d482fb22c",
   "metadata": {},
   "source": [
    "AÑADIREMOS UN PLATO NUEVO YA SEA TEMPORAL (PLATO DEL DIA O A LA SEMANA)"
   ]
  },
  {
   "cell_type": "code",
   "execution_count": 54,
   "id": "34d2659e-3d45-44cc-800b-7fc6a0f688b9",
   "metadata": {},
   "outputs": [
    {
     "name": "stdout",
     "output_type": "stream",
     "text": [
      "\n",
      "🆕 ¡Nuevo Plato del Día añadido al menú!\n",
      "\n",
      "📜 MENÚ - La sazón de la Bestia de Calchín\n",
      "--------------------------------------------------\n",
      "🍴 Sopa De Llamas\n",
      "   💵 Precio: $9.80\n",
      "   🧂 Ingredientes: carne de llama, papas, ají, cebolla\n",
      "--------------------------------------------------\n",
      "🍴 Asado Del Infierno\n",
      "   💵 Precio: $13.95\n",
      "   🧂 Ingredientes: costillas, sal gruesa, salsa picante\n",
      "--------------------------------------------------\n",
      "🍴 Empanadas De La Abuela\n",
      "   💵 Precio: $7.20\n",
      "   🧂 Ingredientes: carne molida, cebolla, pimentón, huevo duro\n",
      "--------------------------------------------------\n",
      "🍴 Ensalada Bestial\n",
      "   💵 Precio: $6.40\n",
      "   🧂 Ingredientes: lechuga, zanahoria, huevo, palta\n",
      "--------------------------------------------------\n",
      "🍴 Locro Calchinense\n",
      "   💵 Precio: $12.00\n",
      "   🧂 Ingredientes: maíz blanco, poroto, chorizo, panceta\n",
      "--------------------------------------------------\n",
      "🍴 Tarta Embrujada\n",
      "   💵 Precio: $10.30\n",
      "   🧂 Ingredientes: choclo, masa, queso, cebolla\n",
      "--------------------------------------------------\n",
      "🍴 Pastel De Las Sierras\n",
      "   💵 Precio: $11.50\n",
      "   🧂 Ingredientes: puré, carne, aceitunas, huevo duro\n",
      "--------------------------------------------------\n",
      "🍴 Fideos Del Apocalipsis\n",
      "   💵 Precio: $13.60\n",
      "   🧂 Ingredientes: fideos, salsa negra, queso, morrón\n",
      "--------------------------------------------------\n"
     ]
    }
   ],
   "source": [
    "# Agregar plato del día\n",
    "recetario_calchin['fideos del apocalipsis'] = {\n",
    "    'valor_unitario': 13.60,\n",
    "    'ingredientes': ('fideos', 'salsa negra', 'queso', 'morrón')\n",
    "}\n",
    "\n",
    "print(\"\\n🆕 ¡Nuevo Plato del Día añadido al menú!\")\n",
    "desplegar_menu(recetario_calchin)"
   ]
  },
  {
   "cell_type": "raw",
   "id": "368039a8-e6b5-458e-9659-1e5a65d55a1b",
   "metadata": {},
   "source": [
    "4.- AÑADIR UN SLICES"
   ]
  },
  {
   "cell_type": "raw",
   "id": "ef03ed33-4b43-47aa-9851-69b859146c31",
   "metadata": {},
   "source": [
    "EN ESTE CASO AÑADIREMOS UN ESPECIAL DEL DIA"
   ]
  },
  {
   "cell_type": "code",
   "execution_count": 55,
   "id": "56966b83-5689-4606-9bd2-eb5fe41ad541",
   "metadata": {},
   "outputs": [],
   "source": [
    "especial_dia=['sopa de llamas', 'empanadas de la abuela', 'fideos del apocalipsis']"
   ]
  },
  {
   "cell_type": "code",
   "execution_count": 56,
   "id": "b57ff1ca-f755-40b7-b6a6-5f068e928f0f",
   "metadata": {},
   "outputs": [
    {
     "name": "stdout",
     "output_type": "stream",
     "text": [
      "\n",
      " ESPECIAL DEL DIAL\n",
      "--------------------------------------------------\n",
      " Sopa De Llamas - $9.80\n",
      " Ingredientes: carne de llama, papas, ají, cebolla\n",
      "--------------------------------------------------\n",
      " Empanadas De La Abuela - $7.20\n",
      " Ingredientes: carne molida, cebolla, pimentón, huevo duro\n",
      "--------------------------------------------------\n",
      " Fideos Del Apocalipsis - $13.60\n",
      " Ingredientes: fideos, salsa negra, queso, morrón\n",
      "--------------------------------------------------\n"
     ]
    }
   ],
   "source": [
    "print(\"\\n ESPECIAL DEL DIAL\")\n",
    "print(\"-\" * 50)\n",
    "for espe in especial_dia:\n",
    "    if espe in recetario_calchin:\n",
    "        datos = recetario_calchin[espe]\n",
    "        print(f\" {espe.title()} - ${datos['valor_unitario']:.2f}\")\n",
    "        print(f\" Ingredientes: {', '.join(datos['ingredientes'])}\")\n",
    "        print(\"-\" * 50)"
   ]
  },
  {
   "cell_type": "raw",
   "id": "4a920464-e430-4148-bb45-4984b8f56bbe",
   "metadata": {},
   "source": [
    "PARTE 4 - EXPLORACION DEL CODIGO"
   ]
  },
  {
   "cell_type": "raw",
   "id": "16a7339a-2bf0-4ecd-af8f-5ef7b293d6f0",
   "metadata": {},
   "source": [
    "A CONTINUACION VAMOS A EXPLICAR ALGUNOS ERRORES DEL CODIGO Y A SU VEZ DE DEPURACION"
   ]
  },
  {
   "cell_type": "code",
   "execution_count": 47,
   "id": "89410071-69b2-4e3d-b061-c40bf75027c9",
   "metadata": {},
   "outputs": [
    {
     "ename": "IndexError",
     "evalue": "list index out of range",
     "output_type": "error",
     "traceback": [
      "\u001b[1;31m---------------------------------------------------------------------------\u001b[0m",
      "\u001b[1;31mIndexError\u001b[0m                                Traceback (most recent call last)",
      "Cell \u001b[1;32mIn[47], line 6\u001b[0m\n\u001b[0;32m      1\u001b[0m \u001b[38;5;66;03m#1.- COMENZAMOS CON EL IndexError: Con este accederemos a un indice fuera del rango\u001b[39;00m\n\u001b[0;32m      2\u001b[0m \n\u001b[0;32m      3\u001b[0m \u001b[38;5;66;03m#Intentamos acceder a un indice fuera del rango de nuestra seleccion_cliente\u001b[39;00m\n\u001b[0;32m      4\u001b[0m \u001b[38;5;66;03m#Si nomas hay 2 o 3 platos seleccionados, el indice 4 no existe\u001b[39;00m\n\u001b[1;32m----> 6\u001b[0m \u001b[38;5;28mprint\u001b[39m(seleccion_cliente[\u001b[38;5;241m3\u001b[39m])\n",
      "\u001b[1;31mIndexError\u001b[0m: list index out of range"
     ]
    }
   ],
   "source": [
    "#1.- COMENZAMOS CON EL IndexError: Con este accederemos a un indice fuera del rango\n",
    "\n",
    "#Intentamos acceder a un indice fuera del rango de nuestra seleccion_cliente\n",
    "#Si nomas hay 2 o 3 platos seleccionados, el indice 4 no existe\n",
    "\n",
    "print(seleccion_cliente[3]) # No nos aparecer este error si modificamos los numeros entre el rango de 0 - 1\n",
    "\n",
    "#El comentario que nos aparece como IndexError: list index out of range\n",
    "#Nos aparecera, debido a que estamos ingresando al indice 2, que nos existe en la seleccion_cliente"
   ]
  },
  {
   "cell_type": "code",
   "execution_count": 27,
   "id": "7f97d464-6234-4b52-9244-029cdf178b1e",
   "metadata": {},
   "outputs": [
    {
     "ename": "KeyError",
     "evalue": "'salchipapa'",
     "output_type": "error",
     "traceback": [
      "\u001b[1;31m---------------------------------------------------------------------------\u001b[0m",
      "\u001b[1;31mKeyError\u001b[0m                                  Traceback (most recent call last)",
      "Cell \u001b[1;32mIn[27], line 3\u001b[0m\n\u001b[0;32m      1\u001b[0m \u001b[38;5;66;03m#2.- ACONTINUACION VAMOS CON EL KeyError:\u001b[39;00m\n\u001b[0;32m      2\u001b[0m \u001b[38;5;66;03m#En este caso, accederemos a un plato que no tengamos en nuestro recetario calchin\u001b[39;00m\n\u001b[1;32m----> 3\u001b[0m \u001b[38;5;28mprint\u001b[39m (recetario_calchin[\u001b[38;5;124m'\u001b[39m\u001b[38;5;124msalchipapa\u001b[39m\u001b[38;5;124m'\u001b[39m])\n",
      "\u001b[1;31mKeyError\u001b[0m: 'salchipapa'"
     ]
    }
   ],
   "source": [
    "#2.- A CONTINUACION VAMOS CON EL KeyError:\n",
    "#En este caso, accederemos a un plato que no tengamos en nuestro recetario calchin\n",
    "print (recetario_calchin['salchipapa']) #Este pequeño apartado hara KeyError ya que la clave no se encuentra en el diccionario\n",
    "\n",
    "#El KeyError que nos aparece es: 'salchipapa'\n",
    "#Esto paso debido a que el plato salchipapa no es una clave valida dentro de nuestro recetario_calchin"
   ]
  },
  {
   "cell_type": "code",
   "execution_count": 28,
   "id": "3eb9211d-a0bb-42dd-b082-f07fd4d497b7",
   "metadata": {},
   "outputs": [
    {
     "ename": "TypeError",
     "evalue": "'tuple' object does not support item assignment",
     "output_type": "error",
     "traceback": [
      "\u001b[1;31m---------------------------------------------------------------------------\u001b[0m",
      "\u001b[1;31mTypeError\u001b[0m                                 Traceback (most recent call last)",
      "Cell \u001b[1;32mIn[28], line 3\u001b[0m\n\u001b[0;32m      1\u001b[0m \u001b[38;5;66;03m#3.- Y POR ULTIMO TENEMOS EL ERROR DE TUPLAS INMUTABLES\u001b[39;00m\n\u001b[0;32m      2\u001b[0m \u001b[38;5;66;03m#Para esta ultima ocasion intentaremos modificar un valor dentro de una tupla\u001b[39;00m\n\u001b[1;32m----> 3\u001b[0m recetario_calchin[\u001b[38;5;124m'\u001b[39m\u001b[38;5;124msopa de llamas\u001b[39m\u001b[38;5;124m'\u001b[39m][\u001b[38;5;124m'\u001b[39m\u001b[38;5;124mingredientes\u001b[39m\u001b[38;5;124m'\u001b[39m][\u001b[38;5;241m0\u001b[39m] \u001b[38;5;241m=\u001b[39m \u001b[38;5;124m'\u001b[39m\u001b[38;5;124mpollo\u001b[39m\u001b[38;5;124m'\u001b[39m\n",
      "\u001b[1;31mTypeError\u001b[0m: 'tuple' object does not support item assignment"
     ]
    }
   ],
   "source": [
    "#3.- Y POR ULTIMO TENEMOS EL ERROR DE TUPLAS INMUTABLES\n",
    "#Para esta ultima ocasion intentaremos modificar un valor dentro de una tupla\n",
    "recetario_calchin['sopa de llamas']['ingredientes'][0] = 'pollo'\n",
    "\n",
    "#El error que nos aparece es de tipo TypeError\n",
    "#El mensaje que nos dara es: 'tuple' object does not support item assignment\n",
    "#Esto se debe a que las tuplas no se puede modificar. Y si queremos cambiar un ingrediente, primero se tendria que convertir en una lista "
   ]
  }
 ],
 "metadata": {
  "kernelspec": {
   "display_name": "Python [conda env:base] *",
   "language": "python",
   "name": "conda-base-py"
  },
  "language_info": {
   "codemirror_mode": {
    "name": "ipython",
    "version": 3
   },
   "file_extension": ".py",
   "mimetype": "text/x-python",
   "name": "python",
   "nbconvert_exporter": "python",
   "pygments_lexer": "ipython3",
   "version": "3.13.5"
  }
 },
 "nbformat": 4,
 "nbformat_minor": 5
}
